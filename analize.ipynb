{
 "cells": [
  {
   "cell_type": "code",
   "execution_count": 4,
   "id": "23076ed3",
   "metadata": {},
   "outputs": [],
   "source": [
    "import pandas as pd\n",
    "import numpy as np"
   ]
  },
  {
   "cell_type": "code",
   "execution_count": 5,
   "id": "40c3616e",
   "metadata": {},
   "outputs": [
    {
     "data": {
      "application/vnd.microsoft.datawrangler.viewer.v0+json": {
       "columns": [
        {
         "name": "index",
         "rawType": "int64",
         "type": "integer"
        },
        {
         "name": "titulo",
         "rawType": "object",
         "type": "string"
        },
        {
         "name": "ano",
         "rawType": "int64",
         "type": "integer"
        },
        {
         "name": "episodios",
         "rawType": "int64",
         "type": "integer"
        },
        {
         "name": "classificacao",
         "rawType": "float64",
         "type": "float"
        },
        {
         "name": "pagina",
         "rawType": "object",
         "type": "string"
        },
        {
         "name": "popularidade",
         "rawType": "object",
         "type": "string"
        },
        {
         "name": "elenco_principal",
         "rawType": "object",
         "type": "unknown"
        }
       ],
       "conversionMethod": "pd.DataFrame",
       "ref": "99248bf5-d442-4d1a-8ec2-a0cf51af88f5",
       "rows": [
        [
         "0",
         "Breaking Bad",
         "2008",
         "62",
         "9.5",
         "https://www.imdb.com/pt/title/tt0903747/?ref_=chttvtp_i_1",
         "27",
         "['nome: Bryan Cranston | personagem: Walter White', 'nome: Aaron Paul | personagem: Jesse Pinkman', 'nome: Anna Gunn | personagem: Skyler White', 'nome: Betsy Brandt | personagem: Marie Schrader', 'nome: RJ Mitte | personagem: Walter White, Jr.', 'nome: Dean Norris | personagem: Hank Schrader', 'nome: Bob Odenkirk | personagem: Saul Goodman', 'nome: Steven Michael Quezada | personagem: Steven Gomez', 'nome: Jonathan Banks | personagem: Mike Ehrmantraut', 'nome: Giancarlo Esposito | personagem: Gus Fring', 'nome: Charles Baker | personagem: Skinny Pete', 'nome: Jesse Plemons | personagem: Todd', 'nome: Christopher Cousins | personagem: Ted Beneke', 'nome: Laura Fraser | personagem: Lydia Rodarte-Quayle', 'nome: Matt Jones | personagem: Badger', 'nome: Michael Shamus Wiles | personagem: ASAC George Merkert', 'nome: Lavell Crawford | personagem: Huell', 'nome: Ray Campbell | personagem: Tyrus Kitt']"
        ],
        [
         "1",
         "Planeta Terra II",
         "2016",
         "6",
         "9.4",
         "https://www.imdb.com/pt/title/tt5491994/?ref_=chttvtp_i_2",
         "1.068",
         "['nome: David Attenborough | personagem: Self - Narrator', 'nome: Gordon Buchanan | personagem: Self - Cameraman', 'nome: Chadden Hunter | personagem: Self - Producer', 'nome: Toby Nowlan | personagem: Self - Researcher', 'nome: Michael J. Sanderson | personagem: Self - Drone Operator', 'nome: Ed Charles | personagem: Self - Producer', 'nome: Pete McCowen | personagem: Self - Cameraman', 'nome: Sandesh Kadur | personagem: Self - Cameraman', 'nome: Emma Brennand | personagem: Self - Director', 'nome: Max Hug Williams | personagem: Self - Cameraman', 'nome: Thomas Crowley | personagem: Self - Cameraman', 'nome: Elizabeth White | personagem: Self - Producer', 'nome: Fredi Devas | personagem: Self - Producer', 'nome: Armin Holtze | personagem: Self', 'nome: Barrie Britton | personagem: Self - Cameraman', 'nome: J.P. Magnan | personagem: Self - Field Assistant', 'nome: Mark MacEwen | personagem: Self - Cameraman', 'nome: Emma Napper | personagem: Self - Producer']"
        ],
        [
         "2",
         "Planeta Terra",
         "2006",
         "11",
         "9.4",
         "https://www.imdb.com/pt/title/tt0795176/?ref_=chttvtp_i_3",
         "1.849",
         "['nome: Sigourney Weaver | personagem: Narrator - US Version', 'nome: David Attenborough | personagem: Self - Narrator', 'nome: Nikolay Drozdov | personagem: Narrator', 'nome: Thomas Anguti Johnston | personagem: Inuktitut Narrator', 'nome: Sanae Ueda | personagem: Self - Narrator Japan', 'nome: Huw Cordey | personagem: Self - Producer', 'nome: Mark Linfield | personagem: Self', 'nome: Doug Allan | personagem: Self', 'nome: Chadden Hunter | personagem: Self - Field Assistant', 'nome: Simon King | personagem: Self', 'nome: Doug Anderson | personagem: Self', 'nome: Paul Stewart | personagem: Self', 'nome: Jeff Wilson | personagem: Self', 'nome: Peter Scoones | personagem: Self', 'nome: Mike Holding | personagem: Self', 'nome: Michael Kelem | personagem: Self', 'nome: Justine Evans | personagem: Self', 'nome: Rick Rosenthal | personagem: Self']"
        ],
        [
         "3",
         "Irmãos de Guerra",
         "2001",
         "10",
         "9.4",
         "https://www.imdb.com/pt/title/tt0185906/?ref_=chttvtp_i_4",
         "160",
         "['nome: Scott Grimes | personagem: Donald G. Malarkey', 'nome: Damian Lewis | personagem: Richard D. Winters', 'nome: Ron Livingston | personagem: Lewis Nixon', 'nome: Shane Taylor | personagem: Eugene G. Roe', 'nome: Donnie Wahlberg | personagem: C. Carwood Lipton', 'nome: Peter Youngblood Hills | personagem: Darrell C. (Shifty) Powers', 'nome: Matthew Leitch | personagem: Floyd M. (Tab) Talbert', 'nome: Nicholas Aaron | personagem: Robert E. (Popeye) Wynn', 'nome: Philip Barantini | personagem: Wayne A. (Skinny) Sisk', 'nome: Michael Cudlitz | personagem: Denver (Bull) Randleman', 'nome: Dexter Fletcher | personagem: John W. Martin', 'nome: Rick Gomez | personagem: George Luz', 'nome: James Madio | personagem: Frank J. Perconte', 'nome: Ross McCall | personagem: Joseph D. Liebgott', 'nome: Doug Allen | personagem: Alton M. More', 'nome: George Calil | personagem: James H. (Mo) Alley Jr.', 'nome: Nolan Hemmings | personagem: Charles E. (Chuck) Grant', 'nome: Robin Laing | personagem: Edward J. (Babe) Heffron']"
        ],
        [
         "4",
         "Chernobyl",
         "2019",
         "5",
         "9.3",
         "https://www.imdb.com/pt/title/tt7366338/?ref_=chttvtp_i_5",
         "142",
         "['nome: Jessie Buckley | personagem: Lyudmilla Ignatenko', 'nome: Jared Harris | personagem: Valery Legasov', 'nome: Stellan Skarsgård | personagem: Boris Shcherbina', 'nome: Adam Nagaitis | personagem: Vasily Ignatenko', 'nome: Emily Watson | personagem: Ulana Khomyuk', 'nome: Paul Ritter | personagem: Anatoly Dyatlov', 'nome: Robert Emms | personagem: Leonid Toptunov', 'nome: Sam Troughton | personagem: Alexandr Akimov', 'nome: Karl Davies | personagem: Viktor Proskuryakov', 'nome: Michael Socha | personagem: Mikhail', 'nome: Laura Elphinstone | personagem: Oksana', \"nome: Jan Ricica | personagem: Oksana's Kid\", 'nome: Adrian Rawlins | personagem: Nikolai Fomin', 'nome: Alan Williams | personagem: KGB Chairman Charkov', \"nome: Con O'Neill | personagem: Viktor Bryukhanov\", 'nome: Douggie McMeekin | personagem: Yuvchenko', 'nome: Nadia Clifford | personagem: Dr. Svetlana Zinchenko', 'nome: David Dencik | personagem: Mikhail Gorbachev']"
        ],
        [
         "5",
         "A Escuta",
         "2002",
         "60",
         "9.3",
         "https://www.imdb.com/pt/title/tt0306414/?ref_=chttvtp_i_6",
         "103",
         "[\"nome: Dominic West | personagem: Detective James 'Jimmy' McNulty\", 'nome: Lance Reddick | personagem: Lieutenant Cedric Daniels', \"nome: Sonja Sohn | personagem: Detective Shakima 'Kima' Greggs\", \"nome: Wendell Pierce | personagem: Detective William 'Bunk' Moreland\", 'nome: John Doman | personagem: Deputy Commissioner for Operations William A. Rawls', 'nome: Deirdre Lovejoy | personagem: A.S.A. Rhonda Pearlman', 'nome: Seth Gilliam | personagem: Sergeant Ellis Carver', \"nome: Domenick Lombardozzi | personagem: Detective Thomas 'Herc' Hauk\", 'nome: Clarke Peters | personagem: Detective Lester Freamon', \"nome: Andre Royo | personagem: Reginald 'Bubbles' Cousins\", 'nome: Michael Kenneth Williams | personagem: Omar Little', \"nome: Jim True-Frost | personagem: Detective Roland 'Prez' Pryzbylewski\", 'nome: Frankie Faison | personagem: Acting Commissioner Ervin H. Burrell', 'nome: Corey Parker Robinson | personagem: Detective Leander Sydnor', 'nome: Delaney Williams | personagem: Sergeant Jay Landsman', \"nome: J.D. Williams | personagem: Preston 'Bodie' Broadus\", 'nome: Wood Harris | personagem: Avon Barksdale', \"nome: Idris Elba | personagem: Russell 'Stringer' Bell\"]"
        ],
        [
         "6",
         "Avatar: A Lenda de Aang",
         "2005",
         "62",
         "9.3",
         "https://www.imdb.com/pt/title/tt0417299/?ref_=chttvtp_i_7",
         "260",
         "['nome: Dee Bradley Baker | personagem: Appa', 'nome: Zach Tyler Eisen | personagem: Aang', 'nome: Mae Whitman | personagem: Katara', 'nome: Jack De Sena | personagem: Sokka', 'nome: Dante Basco | personagem: Prince Zuko', 'nome: Michaela Jill Murphy | personagem: Toph', 'nome: Mako | personagem: Uncle', 'nome: Grey Griffin | personagem: Azula', 'nome: André Sogliuzzo | personagem: Hakoda', 'nome: Cricket Leigh | personagem: Mai', 'nome: Mark Hamill | personagem: Additional Voices', 'nome: Jennie Kwan | personagem: Suki', 'nome: Olivia Hack | personagem: Ty Lee', 'nome: Greg Baldwin | personagem: Additional Voices', 'nome: Jim Meskimen | personagem: Additional Voices', 'nome: James Garrett | personagem: Avatar Roku', 'nome: Jason Isaacs | personagem: Commander Zhao', 'nome: James Sie | personagem: Cabbage Merchant']"
        ],
        [
         "7",
         "Planeta Azul II",
         "2017",
         "7",
         "9.3",
         "https://www.imdb.com/pt/title/tt6769208/?ref_=chttvtp_i_8",
         "4.253",
         "['nome: David Attenborough | personagem: Self - Narrator', 'nome: Peter Drost | personagem: Narrator: The Netherlands', 'nome: Roger Munns | personagem: Self', 'nome: Roger Horrocks | personagem: Self']"
        ],
        [
         "8",
         "Família Soprano",
         "1999",
         "86",
         "9.2",
         "https://www.imdb.com/pt/title/tt0141842/?ref_=chttvtp_i_9",
         "46",
         "['nome: James Gandolfini | personagem: Tony Soprano', 'nome: Lorraine Bracco | personagem: Dr. Jennifer Melfi', 'nome: Edie Falco | personagem: Carmela Soprano', 'nome: Michael Imperioli | personagem: Christopher Moltisanti', 'nome: Steven Van Zandt | personagem: Silvio Dante', 'nome: Robert Iler | personagem: A.J. Soprano', \"nome: Tony Sirico | personagem: Paulie 'Walnuts' Gualtieri\", 'nome: Jamie-Lynn Sigler | personagem: Meadow Soprano', 'nome: Dominic Chianese | personagem: Junior Soprano', 'nome: Aida Turturro | personagem: Janice Soprano', \"nome: Steve Schirripa | personagem: Bobby 'Bacala' Baccalieri\", 'nome: Drea de Matteo | personagem: Adriana La Cerva', 'nome: Dan Grimaldi | personagem: Patsy Parisi', 'nome: Joseph R. Gannascoli | personagem: Vito Spatafore', 'nome: Sharon Angela | personagem: Rosalie Aprile', 'nome: John Ventimiglia | personagem: Artie Bucco', \"nome: Vincent Curatola | personagem: Johnny 'Sack' Sacramoni\", 'nome: Frank Vincent | personagem: Phil Leotardo']"
        ],
        [
         "9",
         "Cosmos: Uma Odisseia do Espaço-Tempo",
         "2014",
         "13",
         "9.2",
         "https://www.imdb.com/pt/title/tt2395695/?ref_=chttvtp_i_10",
         "1.540",
         "['nome: Neil deGrasse Tyson | personagem: Self - Host', 'nome: Christopher Emerson | personagem: Acolyte', 'nome: Keythe Farley | personagem: personagem não encontrado', 'nome: Piotr Michael | personagem: Edmund Muskie', 'nome: Enn Reitel | personagem: Henry Norris Russell', 'nome: Stoney Emshwiller | personagem: Guard', 'nome: André Sogliuzzo | personagem: Christopher Wren, Weichelberger', 'nome: Amanda Seyfried | personagem: Marie Tharp', 'nome: Kirsten Dunst | personagem: Cecilia Payne', 'nome: Paul Sorvino | personagem: Augustin Mouchot', 'nome: Phil LaMarr | personagem: personagem não encontrado', 'nome: Larry Cedar | personagem: personagem não encontrado', 'nome: Christiane Amanpour | personagem: Enheduanna', 'nome: Seth MacFarlane | personagem: Giordano Bruno', 'nome: Fred Tatasciore | personagem: Democritus', 'nome: Martin Jarvis | personagem: Sir Humphry Davy', 'nome: Glenn Steinbaum | personagem: Bruce Heezen', 'nome: Maria Frucci | personagem: personagem não encontrado']"
        ],
        [
         "10",
         "Cosmos",
         "1980",
         "13",
         "9.3",
         "https://www.imdb.com/pt/title/tt0081846/?ref_=chttvtp_i_11",
         "3.796",
         "['nome: Carl Sagan | personagem: Self - Host', 'nome: Jaromír Hanzlík | personagem: Johannes Kepler', 'nome: Jonathan Fahn | personagem: Young Champollion', 'nome: Bob Hevelone | personagem: Fourier', 'nome: Jean Charney | personagem: Betty Hill', 'nome: Alan Belod | personagem: Jean-Francois Champollion', 'nome: Cecilia White | personagem: Tinget Indian', 'nome: Larry Soderblom | personagem: Self - Voyager Imaging Team', 'nome: Bill Grant | personagem: Barney Hill', 'nome: Ronald A. Hilbert | personagem: Tinget Indian', 'nome: Linda Morabito | personagem: Self - Voyager Navigation Team', 'nome: Victor C. John | personagem: Tinget Indian', \"nome: Arthur 'Lonne' Lane | personagem: Self - Deputy Project Scientist\", \"nome: Dana Hlavácová | personagem: Johannes Kepler's wife\", 'nome: Josef Vinklár | personagem: Tycho Brahe']"
        ],
        [
         "11",
         "Nosso Planeta",
         "2019",
         "12",
         "9.2",
         "https://www.imdb.com/pt/title/tt9253866/?ref_=chttvtp_i_12",
         "2.725",
         "['nome: David Attenborough | personagem: Self - Narrator', 'nome: Israfeel Ahamed | personagem: Narrator - Bengali']"
        ],
        [
         "12",
         "Game of Thrones",
         "2011",
         "74",
         "9.2",
         "https://www.imdb.com/pt/title/tt0944947/?ref_=chttvtp_i_13",
         "20",
         "['nome: Emilia Clarke | personagem: Daenerys Targaryen', 'nome: Peter Dinklage | personagem: Tyrion Lannister', 'nome: Kit Harington | personagem: Jon Snow', 'nome: Lena Headey | personagem: Cersei Lannister', 'nome: Sophie Turner | personagem: Sansa Stark', 'nome: Maisie Williams | personagem: Arya Stark', 'nome: Nikolaj Coster-Waldau | personagem: Jaime Lannister', 'nome: Iain Glen | personagem: Jorah Mormont', 'nome: John Bradley | personagem: Samwell Tarly', 'nome: Alfie Allen | personagem: Theon Greyjoy', 'nome: Conleth Hill | personagem: Lord Varys', 'nome: Liam Cunningham | personagem: Davos Seaworth', 'nome: Gwendoline Christie | personagem: Brienne of Tarth', \"nome: Aidan Gillen | personagem: Petyr 'Littlefinger' Baelish\", 'nome: Isaac Hempstead Wright | personagem: Bran Stark', \"nome: Rory McCann | personagem: Sandor 'The Hound' Clegane\", 'nome: Nathalie Emmanuel | personagem: Missandei', 'nome: Jerome Flynn | personagem: Bronn']"
        ],
        [
         "13",
         "Bluey",
         "2018",
         "195",
         "9.3",
         "https://www.imdb.com/pt/title/tt7678620/?ref_=chttvtp_i_14",
         "416",
         "['nome: David McCormack | personagem: Dad', 'nome: Melanie Zanetti | personagem: Mum', \"nome: Brad Elliott | personagem: Lucky's Dad\", 'nome: Dan Brumm | personagem: Uncle Stripe', 'nome: Myf Warhurst | personagem: Aunt Trixie', 'nome: Meg Washington | personagem: Calypso', 'nome: Chris Brumm | personagem: Nana', 'nome: Daley Pearson | personagem: Rocko', 'nome: Frederique Sims | personagem: Coco', 'nome: Emily Taheny | personagem: Wendy', \"nome: Richard Jeffery | personagem: Mackenzie's Dad\", \"nome: Leigh Sales | personagem: Coco's Mum\", \"nome: Francis Stanton | personagem: Chloe's Dad\", 'nome: Kelly Butler | personagem: Doreen', \"nome: Hamish Blake | personagem: Jack's Dad\", \"nome: Anthony Field | personagem: Rusty's Dad\", 'nome: Patrick Brammall | personagem: Uncle Rad', \"nome: Claudia O'Doherty | personagem: Frisky\"]"
        ],
        [
         "14",
         "O Mundo em Guerra",
         "1973",
         "26",
         "9.2",
         "https://www.imdb.com/pt/title/tt0071075/?ref_=chttvtp_i_15",
         "2.522",
         "['nome: Laurence Olivier | personagem: Self - Narrator', \"nome: Averell Harriman | personagem: Self - Roosevelt's Roving Ambassador\", 'nome: Anthony Eden | personagem: Foreign Secretary 1940', 'nome: Albert Speer | personagem: Self', \"nome: Siegfried Westphal | personagem: Self - Afika Korps - Rommel's Chief of Staff\", 'nome: Lawrence Durrell | personagem: Self', 'nome: Wynford Vaughan-Thomas | personagem: Self - War Correspondent', 'nome: Louis Mountbatten | personagem: Self - Chief of Combined Operations (1942-1943)', 'nome: J. Lawton Collins | personagem: Self - Commanding General, 25th Infantry Division at Guadalcanal', 'nome: Toshikazu Kase | personagem: Self - Cabinet Secretariat', 'nome: Hans Kehrl | personagem: Ministry of Armaments 1943-45', \"nome: Kenneth Strong | personagem: Self - Eisenhower's Intelligence Chief\", \"nome: Kay Summersby | personagem: Self - Eisenhower's Driver\", 'nome: Walter Warlimont | personagem: Self - German High Command', \"nome: Francis de Guingand | personagem: Montgomery's Chief of Staff\", 'nome: Christabel Bielenberg | personagem: Self - Married to German', \"nome: J.R. Colville | personagem: Self - Chamberlain's Private Secretary\", 'nome: Ursula Gray | personagem: Self - Dresden Civilian']"
        ],
        [
         "15",
         "Fullmetal Alchemist: Brotherhood",
         "2009",
         "68",
         "9.1",
         "https://www.imdb.com/pt/title/tt1355642/?ref_=chttvtp_i_16",
         "350",
         "['nome: Kent Williams | personagem: Narrator', 'nome: Iemasa Kayumi | personagem: Narrator', 'nome: Vic Mignogna | personagem: Edward Elric', 'nome: Romi Park | personagem: Edward Elric', 'nome: Muriel Hofmann | personagem: Edward Elric (Animax Asia dub)', 'nome: Lili Troncale | personagem: Alphonse Elric (Animax Asia dub)', 'nome: Rie Kugimiya | personagem: Alphonse Elric', 'nome: Maxey Whitehead | personagem: Alphonse Elric', 'nome: Travis Willingham | personagem: Roy Mustang', \"nome: Shin'ichirô Miki | personagem: Roy Mustang\", 'nome: Colleen Clinkenbeard | personagem: Riza Hawkeye', 'nome: Fumiko Orikasa | personagem: Riza Hawkeye', 'nome: J. Michael Tatum | personagem: Scar', 'nome: Kenta Miyake | personagem: Scar', 'nome: Yûki Hayashi | personagem: Denny Brosh', 'nome: Caitlin Glass | personagem: Winry Rockbell', 'nome: Monica Rial | personagem: May Chang', 'nome: Megumi Takamoto | personagem: Winry Rockbell']"
        ],
        [
         "16",
         "Vida",
         "2009",
         "11",
         "9.1",
         "https://www.imdb.com/pt/title/tt1533395/?ref_=chttvtp_i_17",
         "3.447",
         "['nome: Oprah Winfrey | personagem: Self - Narrator (U.S. Broadcast)', 'nome: David Attenborough | personagem: Self - Narrator', 'nome: Doug Allan | personagem: Self', 'nome: Roger Munns | personagem: Self', 'nome: Jonathan Smith | personagem: Self', 'nome: Michael Pitts | personagem: Self', 'nome: Barrie Britton | personagem: Self', 'nome: Kevin Flay | personagem: Self', 'nome: Justine Evans | personagem: Self', 'nome: Neil Lucas | personagem: Self', 'nome: Matthew Swarbrick | personagem: Self', 'nome: Stephen Lyle | personagem: Self', 'nome: Nick Guy | personagem: Self', 'nome: Martha Holmes | personagem: Self', 'nome: Doug Anderson | personagem: Self', 'nome: Rick Rosenthal | personagem: Self', 'nome: Adam Chapman | personagem: Self', 'nome: Tim Shepherd | personagem: Self']"
        ],
        [
         "17",
         "Rick e Morty",
         "2013",
         "85",
         "9.1",
         "https://www.imdb.com/pt/title/tt2861424/?ref_=chttvtp_i_18",
         "84",
         "['nome: Chris Parnell | personagem: Jerry Smith', 'nome: Spencer Grammer | personagem: Summer Smith', 'nome: Sarah Chalke | personagem: Beth Smith', 'nome: Justin Roiland | personagem: Rick Sanchez', 'nome: Kari Wahlgren | personagem: Jessica', 'nome: Maurice LaMarche | personagem: Abradolph Lincler', 'nome: Dan Harmon | personagem: Birdperson', 'nome: Tom Kenny | personagem: Squanchy', 'nome: Nolan North | personagem: Additional Voices', 'nome: Ryan Ridley | personagem: Additional Voices', 'nome: Brandon Johnson | personagem: Mr. Goldenfold', 'nome: Cassie Steele | personagem: Tammy', 'nome: Rob Schrab | personagem: Tom Randolph', 'nome: Nick Reczynski | personagem: Gromflomite Guard #2', 'nome: Ian Cardoni | personagem: Rick Sanchez', 'nome: Harry Belden | personagem: Morty Smith', 'nome: Echo Kellum | personagem: Brad', 'nome: Keith David | personagem: The President']"
        ],
        [
         "18",
         "Arremesso Final",
         "2020",
         "10",
         "9.0",
         "https://www.imdb.com/pt/title/tt8420184/?ref_=chttvtp_i_19",
         "1.570",
         "['nome: Michael Jordan | personagem: Self', 'nome: Phil Jackson | personagem: Self - Bulls Head Coach 1989 - 1998', 'nome: Scottie Pippen | personagem: Self - Bulls Forward 1987 - 1998', 'nome: David Aldridge | personagem: Self - ESPN Reporter 1996 - 2004', 'nome: Steve Kerr | personagem: Self - Bulls Guard 1992 - 1998', 'nome: Michael Wilbon | personagem: Self - The Washington Post 1980 - 2010', \"nome: Deloris Jordan | personagem: Self - Michael's Mother\", 'nome: John Paxson | personagem: Self - Bulls Guard 1985 - 1994', 'nome: Andrea Kremer | personagem: Self - ESPN Correspondent 1989 - 2006', 'nome: Bill Wennington | personagem: Self - Bulls Center 1993 - 1999', 'nome: Dennis Rodman | personagem: Self', 'nome: Ahmad Rashad | personagem: Self - NBC Sports 1983 - 2002', 'nome: Bob Costas | personagem: Self - WGN-Chicago 1979 - 1980', 'nome: David Stern | personagem: Self - NBA Commissioner 1984 - 2014', 'nome: Jerry Reinsdorf | personagem: Self - Chicago Bulls Owner', \"nome: Mark Vancil | personagem: Self - Author, 'Rare Air'\", 'nome: B.J. Armstrong | personagem: Self - Bulls Guard 1989 - 1995', 'nome: Rick Telander | personagem: Self - Chicago Sun-Times']"
        ],
        [
         "19",
         "Além da Imaginação",
         "1959",
         "156",
         "9.0",
         "https://www.imdb.com/pt/title/tt0052520/?ref_=chttvtp_i_20",
         "358",
         "['nome: Rod Serling | personagem: Narrator', 'nome: Robert McCord | personagem: Waiter', 'nome: Jay Overholts | personagem: Cowboy #2', 'nome: James Turley | personagem: 2nd Fireman', 'nome: Vaughn Taylor | personagem: Mr. Carsville', 'nome: David Armstrong | personagem: Passenger', 'nome: Jack Klugman | personagem: Captain Ross', 'nome: Burgess Meredith | personagem: Henry Bemis', \"nome: John Anderson | personagem: Capt. 'Skipper' Farver\", \"nome: J. Pat O'Malley | personagem: Gooberman - Town Drunk\", 'nome: Barney Phillips | personagem: Capt. E.L. Gunther', 'nome: George Mitchell | personagem: Dr. Floyd', 'nome: Cyril Delevanti | personagem: Franklin', 'nome: Jon Lormer | personagem: Minister', 'nome: Bill Erwin | personagem: Man', 'nome: Nan Peterson | personagem: Blonde in Bar', 'nome: Lew Brown | personagem: Lieutenant', 'nome: S. John Launer | personagem: Lieutenant Colonel']"
        ],
        [
         "20",
         "Ataque dos Titãs",
         "2013",
         "98",
         "9.1",
         "https://www.imdb.com/pt/title/tt2560140/?ref_=chttvtp_i_21",
         "35",
         "['nome: Jessie James Grelle | personagem: Armin Arlert', 'nome: Bryce Papenbrook | personagem: Eren Jaeger', 'nome: Trina Nishimura | personagem: Mikasa Ackermann', 'nome: Yûki Kaji | personagem: Eren Yeager', 'nome: Yui Ishikawa | personagem: Mikasa Ackerman', 'nome: Marina Inoue | personagem: Armin Arlert', 'nome: Kishô Taniyama | personagem: Jean Kirstein', 'nome: Hiro Shimono | personagem: Connie Springer', 'nome: Clifford Chapin | personagem: Conny Springer', 'nome: Mike McFarland | personagem: Jean Kirschtein', 'nome: Romi Park | personagem: Hange Zoe', 'nome: Matthew Mercer | personagem: Levi', 'nome: Jessica Calvello | personagem: Hange Zoe', 'nome: Hiroshi Kamiya | personagem: Levi', 'nome: Yoshimasa Hosoya | personagem: Reiner Braun', 'nome: Yû Kobayashi | personagem: Sasha Braus', 'nome: Robert McCollum | personagem: Reiner Braun', 'nome: Ashly Burch | personagem: Sasha Braus']"
        ],
        [
         "21",
         "A Guerra do Vietnã",
         "2017",
         "10",
         "9.1",
         "https://www.imdb.com/pt/title/tt1877514/?ref_=chttvtp_i_22",
         "1.860",
         "['nome: Peter Coyote | personagem: Self - Narrator', 'nome: Huy Duc | personagem: Self - North Vietnam', 'nome: James Willbanks | personagem: Self - Army Advisor', 'nome: Duong Van Mai Elliott | personagem: Self - Saigon', 'nome: Joachim Król | personagem: Self - Sprecher', 'nome: Hans-Gerd Kilbinger | personagem: Self - Sprecher', 'nome: Robert Steudtner | personagem: Self - Sprecherin', 'nome: Renate Fuhrmann | personagem: Self - Sprecherin', 'nome: Simon Roden | personagem: Self - Sprecher', 'nome: Josef Tratnik | personagem: Self - Sprecher', 'nome: Ernst August Schepmann | personagem: Self - Sprecher', 'nome: Bernt Hahn | personagem: Self - Sprecher', 'nome: Maximilian Hilbrand | personagem: Self - Sprecher', 'nome: John Musgrave | personagem: Self - Marines', 'nome: Phan Quang Tue | personagem: Self - Saigon', 'nome: Karl Marlantes | personagem: Self - Marines', 'nome: Nguyen Ngoc | personagem: Self - N. Vietnamese Army', 'nome: Bao Ninh | personagem: Self - N. Vietnamese Army']"
        ],
        [
         "22",
         "Sherlock",
         "2010",
         "15",
         "9.1",
         "https://www.imdb.com/pt/title/tt1475582/?ref_=chttvtp_i_23",
         "181",
         "['nome: Benedict Cumberbatch | personagem: Sherlock Holmes', 'nome: Martin Freeman | personagem: Dr. John Watson', 'nome: Una Stubbs | personagem: Mrs. Hudson', 'nome: Rupert Graves | personagem: DI Lestrade', 'nome: Louise Brealey | personagem: Molly Hooper', 'nome: Mark Gatiss | personagem: Mycroft Holmes', 'nome: Andrew Scott | personagem: Jim Moriarty', 'nome: Amanda Abbington | personagem: Mary Morstan', 'nome: Jonathan Aris | personagem: Anderson', 'nome: Vinette Robinson | personagem: Sgt Sally Donovan', 'nome: Tanya Moodie | personagem: Ella', 'nome: Lindsay Duncan | personagem: Lady Smallwood', 'nome: Yasmine Akram | personagem: Janine', 'nome: Sian Brooke | personagem: Elizabeth', 'nome: David Nellist | personagem: Mike Stamford', 'nome: Simon Kunz | personagem: Sir Edwin', 'nome: Wanda Ventham | personagem: Mrs. Holmes', 'nome: Timothy Carlton | personagem: Dad']"
        ],
        [
         "23",
         "Batman: A Série Animada",
         "1992",
         "85",
         "9.0",
         "https://www.imdb.com/pt/title/tt0103359/?ref_=chttvtp_i_24",
         "613",
         "['nome: Kevin Conroy | personagem: Batman', 'nome: Loren Lester | personagem: Robin', 'nome: Efrem Zimbalist Jr. | personagem: Alfred Pennyworth', 'nome: Bob Hastings | personagem: Commissioner James Gordon', 'nome: Robert Costanzo | personagem: Detective Bullock', 'nome: Mari Devon | personagem: Summer Gleeson', 'nome: Mark Hamill | personagem: The Joker', 'nome: Richard Moll | personagem: Two-Face', 'nome: Lloyd Bochner | personagem: Mayor Hamilton Hill', 'nome: Arleen Sorkin | personagem: Harley Quinn', 'nome: John Vernon | personagem: Rupert Thorne', 'nome: Adrienne Barbeau | personagem: Catwoman', 'nome: Brock Peters | personagem: Lucius Fox', 'nome: Diane Pershing | personagem: Poison Ivy', 'nome: Ingrid Oliu | personagem: Renee Montoya', 'nome: Paul Williams | personagem: The Penguin', 'nome: Neil Ross | personagem: Additional Voices', 'nome: Aron Kincaid | personagem: Killer Croc']"
        ],
        [
         "24",
         "Arcane",
         "2021",
         "18",
         "9.0",
         "https://www.imdb.com/pt/title/tt11126994/?ref_=chttvtp_i_25",
         "116",
         "['nome: Kevin Alejandro | personagem: Jayce', 'nome: Hailee Steinfeld | personagem: Vi', 'nome: Ella Purnell | personagem: Jinx', 'nome: Katie Leung | personagem: Caitlyn', 'nome: Harry Lloyd | personagem: Viktor', 'nome: Toks Olagundoye | personagem: Mel Medarda', 'nome: Terri Douglas | personagem: Additional Voices', 'nome: JB Blanc | personagem: Vander', 'nome: Jason Spisak | personagem: Silco', 'nome: Robin Atkin Downes | personagem: Additional Voices', 'nome: Arthur Ortiz | personagem: Additional Voices', 'nome: Brett Tucker | personagem: Singed', 'nome: Abigail Ludrof | personagem: Additional Voices', 'nome: Josh Keaton | personagem: Salo', 'nome: Amirah Vann | personagem: Sevika', 'nome: Remy Hii | personagem: Marcus', 'nome: Mia Sinclair Jenness | personagem: Powder', 'nome: Reed Shannon | personagem: Ekko']"
        ],
        [
         "25",
         "Better Call Saul",
         "2015",
         "63",
         "9.0",
         "https://www.imdb.com/pt/title/tt3032476/?ref_=chttvtp_i_26",
         "57",
         "['nome: Bob Odenkirk | personagem: Jimmy McGill', 'nome: Rhea Seehorn | personagem: Kim Wexler', 'nome: Jonathan Banks | personagem: Mike Ehrmantraut', 'nome: Patrick Fabian | personagem: Howard Hamlin', 'nome: Michael Mando | personagem: Nacho Varga', 'nome: Giancarlo Esposito | personagem: Gus Fring', 'nome: Michael McKean | personagem: Chuck McGill', 'nome: Tony Dalton | personagem: Lalo Salamanca', 'nome: Mark Margolis | personagem: Hector Salamanca', 'nome: Kerry Condon | personagem: Stacey Ehrmantraut', 'nome: Ray Campbell | personagem: Tyrus Kitt', 'nome: Jeremiah Bitsui | personagem: Victor', 'nome: Cara Pifko | personagem: Paige Novick', 'nome: Dennis Boutsikaris | personagem: Rick Schweikart', 'nome: Ed Begley Jr. | personagem: Clifford Main', 'nome: Josh Fadem | personagem: Camera Guy', 'nome: Tina Parker | personagem: Francesca Liddy', 'nome: Julian Bonfiglio | personagem: Sound Guy']"
        ],
        [
         "26",
         "Vida de Escritório",
         "2005",
         "188",
         "9.0",
         "https://www.imdb.com/pt/title/tt0386676/?ref_=chttvtp_i_27",
         "76",
         "['nome: Steve Carell | personagem: Michael Scott', 'nome: Jenna Fischer | personagem: Pam Beesly', 'nome: John Krasinski | personagem: Jim Halpert', 'nome: Rainn Wilson | personagem: Dwight Schrute', 'nome: Leslie David Baker | personagem: Stanley Hudson', 'nome: Brian Baumgartner | personagem: Kevin Malone', 'nome: Angela Kinsey | personagem: Angela Martin', 'nome: Kate Flannery | personagem: Meredith Palmer', 'nome: Phyllis Smith | personagem: Phyllis Vance', 'nome: Creed Bratton | personagem: Creed Bratton', 'nome: Oscar Nuñez | personagem: Oscar Martinez', 'nome: B.J. Novak | personagem: Ryan Howard', 'nome: Mindy Kaling | personagem: Kelly Kapoor', 'nome: Ed Helms | personagem: Andy Bernard', 'nome: Paul Lieberstein | personagem: Toby Flenderson', 'nome: Craig Robinson | personagem: Darryl Philbin', 'nome: Ellie Kemper | personagem: Erin Hannon', 'nome: Zach Woods | personagem: Gabe Lewis']"
        ],
        [
         "27",
         "Planeta Azul",
         "2001",
         "8",
         "9.0",
         "https://www.imdb.com/pt/title/tt0296310/?ref_=chttvtp_i_28",
         "popularidade não encontrada",
         "['nome: David Attenborough | personagem: Self - Narrator', 'nome: Pierce Brosnan | personagem: Self - Narrator (US version)', 'nome: Peter Scoones | personagem: Self']"
        ],
        [
         "28",
         "Na Fazenda com Clarkson",
         "2021",
         "26",
         "9.0",
         "https://www.imdb.com/pt/title/tt10541088/?ref_=chttvtp_i_29",
         "573",
         "['nome: Jeremy Clarkson | personagem: Self - Presenter', 'nome: Kaleb Cooper | personagem: Self - Farmhand', 'nome: Charlie Ireland | personagem: Self - Land Agent', \"nome: Lisa Hogan | personagem: Self - Jeremy's Girlfriend\", 'nome: Gerald Cooper | personagem: Self - Head of Security', 'nome: Alan Townsend | personagem: Self - Builder', 'nome: Dilwyn Evans | personagem: Self - Vet', 'nome: Tim Coles | personagem: Self - Cow Breeder', 'nome: Kevin Harrison | personagem: Self - Sheep Farmer', 'nome: Ellen Helliwell | personagem: Self - Shepherdess', \"nome: Kieron Cooper | personagem: Self - Kaleb's Brother\", 'nome: Paddy Bourns | personagem: Self - Cackleberry Farm Owner', 'nome: Andrew Cato | personagem: Self - Regenerative Farmer', 'nome: Thomas Haynes | personagem: Self - Wildlife Conservationist', 'nome: Viktor Zaichenko | personagem: Self - Bee Farmer', 'nome: Simon Strong | personagem: Self - Neighbouring Farmer', \"nome: Georgia Craig | personagem: Self - NFU's County Advisor\", 'nome: Emma Ledbury | personagem: Self - Dairy Farmer']"
        ],
        [
         "29",
         "Scam 1992: The Harshad Mehta Story",
         "2020",
         "10",
         "9.2",
         "https://www.imdb.com/pt/title/tt12392504/?ref_=chttvtp_i_30",
         "2.668",
         "['nome: Pratik Gandhi | personagem: Harshad Mehta', 'nome: Shreya Dhanwanthary | personagem: Sucheta Dalal', 'nome: Hemant Kher | personagem: Ashwin Mehta', 'nome: Anjali Barot | personagem: Jyoti Mehta', 'nome: Chirag Vohra | personagem: Bhushan Bhatt', 'nome: Brinda Trivedi | personagem: Deepika Mehta', 'nome: Jay Upadhyay | personagem: Pranav Sheth', 'nome: Kumkum Das | personagem: Rasilaben Mehta', 'nome: Faisal Rashid | personagem: Debashis', 'nome: Himanshu Kohli | personagem: Raahil', \"nome: Aakanksha Gade | personagem: Raahil's Wife\", 'nome: Ananth Mahadevan | personagem: S. Venkitaramanan', 'nome: Nikhil Dwivedi | personagem: Tyagi', 'nome: Kavin Dave | personagem: Rakesh', 'nome: Paresh Ganatra | personagem: Maheshwari', 'nome: Raghav Raj Kakker | personagem: DT', \"nome: Varun Kulkarni | personagem: (Manu Mundra's Assistant)\", 'nome: K.K. Raina | personagem: MJ Pherwani']"
        ],
        [
         "30",
         "Planeta Humano",
         "2011",
         "8",
         "9.0",
         "https://www.imdb.com/pt/title/tt1806234/?ref_=chttvtp_i_31",
         "popularidade não encontrada",
         "['nome: John Hurt | personagem: Narrator', 'nome: Roger Munns | personagem: Self']"
        ],
        [
         "31",
         "Planeta Gelado",
         "2011",
         "10",
         "9.0",
         "https://www.imdb.com/pt/title/tt2092588/?ref_=chttvtp_i_32",
         "popularidade não encontrada",
         "['nome: David Attenborough | personagem: Self - Narrator', 'nome: Alec Baldwin | personagem: Self - Narrator', 'nome: Chadden Hunter | personagem: Self', 'nome: Michael Kelem | personagem: Self', 'nome: Ted Giffords | personagem: Self', 'nome: Doug Allan | personagem: Self', 'nome: Gavin Thurston | personagem: Self', 'nome: Vanessa Berlowitz | personagem: Self', 'nome: Mark Linfield | personagem: Self', 'nome: Doug Anderson | personagem: Self', 'nome: Mark Smith | personagem: Self', 'nome: Jeff Wilson | personagem: Self', 'nome: Niobe Thompson | personagem: Self', 'nome: Jamie McPherson | personagem: Self', 'nome: Didier Noirot | personagem: Self', 'nome: Jeff Turner | personagem: Self', 'nome: John Aitchison | personagem: Self', 'nome: Alun Hubbard | personagem: Self']"
        ],
        [
         "32",
         "HUNTER×HUNTER",
         "2011",
         "148",
         "9.0",
         "https://www.imdb.com/pt/title/tt2098220/?ref_=chttvtp_i_33",
         "321",
         "['nome: Issei Futamata | personagem: Narrator', 'nome: Megumi Han | personagem: Gon Freecss', 'nome: Cristina Valenzuela | personagem: Killua Zoldyck', 'nome: Mariya Ise | personagem: Killua Zoldyck', 'nome: Michael McConnohie | personagem: Narrator', 'nome: Erica Mendez | personagem: Gon Freecss', 'nome: Erika Harlacher | personagem: Kurapika', 'nome: Miyuki Sawashiro | personagem: Kurapika', 'nome: Daisuke Namikawa | personagem: Hisoka Morow', 'nome: Matthew Mercer | personagem: Leorio Paladiknight', 'nome: Keiji Fujiwara | personagem: Leorio Paladiknight', 'nome: Keith Silverstein | personagem: Hisoka Morow', 'nome: Wataru Takagi | personagem: Knuckle Bine', 'nome: Tony Oliver | personagem: Beans', 'nome: Bill Rogers | personagem: Meleoron', 'nome: Ray Chase | personagem: Hanzo', 'nome: Ben Diskin | personagem: Knuckle Bine', 'nome: Kyle Hebert | personagem: Morel Mackernasey']"
        ],
        [
         "33",
         "Only Fools and Horses",
         "1981",
         "64",
         "9.0",
         "https://www.imdb.com/pt/title/tt0081912/?ref_=chttvtp_i_34",
         "879",
         "[\"nome: David Jason | personagem: Derek 'Del Boy' Trotter\", 'nome: Nicholas Lyndhurst | personagem: Rodney Trotter', 'nome: Roger Lloyd Pack | personagem: Trigger', 'nome: Buster Merryfield | personagem: Uncle Albert Trotter', 'nome: John Challis | personagem: Boycie', 'nome: Kenneth MacDonald | personagem: Mike Fisher', 'nome: Lennard Pearce | personagem: Grandad', 'nome: Gwyneth Strong | personagem: Cassandra Trotter', 'nome: Sue Holderness | personagem: Marlene', 'nome: Patrick Murray | personagem: Mickey Pearce', 'nome: Tessa Peake-Jones | personagem: Raquel Turner', 'nome: Paul Barber | personagem: Denzil', 'nome: Roy Heather | personagem: Sid', 'nome: Denis Lill | personagem: Alan Parry', 'nome: Nula Conwell | personagem: Maureen the Barmaid', 'nome: Steven Woodcock | personagem: Jevon', 'nome: Julie La Rousse | personagem: Julie the Barmaid', 'nome: Michèle Winstanley | personagem: Karen the Barmaid']"
        ],
        [
         "34",
         "Firefly",
         "2002",
         "14",
         "8.9",
         "https://www.imdb.com/pt/title/tt0303461/?ref_=chttvtp_i_35",
         "377",
         "[\"nome: Nathan Fillion | personagem: Captain Malcolm 'Mal' Reynolds\", 'nome: Gina Torres | personagem: Zoë Washburne', \"nome: Alan Tudyk | personagem: Hoban 'Wash' Washburne\", 'nome: Morena Baccarin | personagem: Inara Serra', 'nome: Adam Baldwin | personagem: Jayne Cobb', 'nome: Jewel Staite | personagem: Kaylee Frye', 'nome: Sean Maher | personagem: Dr. Simon Tam', 'nome: Summer Glau | personagem: River Tam', 'nome: Ron Glass | personagem: Shepherd Derrial Book', 'nome: Christina Hendricks | personagem: Saffron', 'nome: Mark Sheppard | personagem: Badger', 'nome: Michael Fairman | personagem: Adelai Niska', 'nome: Jeff Ricketts | personagem: Man', 'nome: Dennis Cockrum | personagem: Other Man', 'nome: Zac Efron | personagem: Young Simon', 'nome: Doug Savant | personagem: Commander Harken', 'nome: Richard Brooks | personagem: Jubal Early', 'nome: Isabella Hofmann | personagem: Regan Tam']"
        ],
        [
         "35",
         "The Civil War",
         "1990",
         "9",
         "9.0",
         "https://www.imdb.com/pt/title/tt0098769/?ref_=chttvtp_i_36",
         "2.764",
         "['nome: David McCullough | personagem: Self - Narrator', 'nome: Sam Waterston | personagem: President Abraham Lincoln', 'nome: Julie Harris | personagem: Mary Chestnut', 'nome: Jason Robards | personagem: Ulysses S. Grant', 'nome: Morgan Freeman | personagem: Frederick Douglass', 'nome: Paul Roebling | personagem: Joshua L. Chamberlain', 'nome: Garrison Keillor | personagem: Walt Whitman', 'nome: George Black | personagem: Robert E. Lee', 'nome: Arthur Miller | personagem: William Tecumseh Sherman', 'nome: Christopher Murney | personagem: Pvt. Elijah Hunt Rhodes', 'nome: Charles McDowell | personagem: Pvt. Sam Watkins', 'nome: Horton Foote | personagem: Jefferson Davis', 'nome: George Plimpton | personagem: George Templeton Strong', 'nome: Philip Bosco | personagem: Horace Greeley', 'nome: Terry Courier | personagem: George McClellan', 'nome: Jody Powell | personagem: Stonewall Jackson', 'nome: Studs Terkel | personagem: Benjamin F. Butler', 'nome: Jeremy Irons | personagem: Various']"
        ],
        [
         "36",
         "Death Note",
         "2006",
         "37",
         "8.9",
         "https://www.imdb.com/pt/title/tt0877057/?ref_=chttvtp_i_37",
         "340",
         "['nome: Mamoru Miyano | personagem: Light Yagami', 'nome: Brad Swaile | personagem: Light Yagami', 'nome: Vincent Tong | personagem: Touta Matsuda', 'nome: Ryô Naitô | personagem: Touta Matsuda', 'nome: Trevor Devall | personagem: Shuichi Aizawa', 'nome: Brian Drummond | personagem: Ryuk', 'nome: Naoya Uchida | personagem: Soichiro Yagami', 'nome: Chris Britton | personagem: Soichiro Yagami', 'nome: Keiji Fujiwara | personagem: Shuichi Aizawa', 'nome: Kappei Yamaguchi | personagem: L', 'nome: Aya Hirano | personagem: Misa Amane', 'nome: Shannon Chan-Kent | personagem: Misa Amane', 'nome: Alessandro Juliani | personagem: L', 'nome: Shidô Nakamura | personagem: Ryuk', 'nome: John Murphy | personagem: Kanzo Mogi', 'nome: Kazuya Nakai | personagem: Kanzo Mogi', 'nome: Kiyoshi Kobayashi | personagem: Watari', 'nome: French Tickner | personagem: Watari']"
        ],
        [
         "37",
         "Gravity Falls: Um Verão de Mistérios",
         "2012",
         "41",
         "8.9",
         "https://www.imdb.com/pt/title/tt1865718/?ref_=chttvtp_i_38",
         "522",
         "['nome: Jason Ritter | personagem: Dipper Pines', 'nome: Alex Hirsch | personagem: Grunkle Stan', 'nome: Kristen Schaal | personagem: Mabel Pines', 'nome: Linda Cardellini | personagem: Wendy Corduroy', 'nome: Kevin Michael Richardson | personagem: Sheriff Blubs', 'nome: Matt Chapman | personagem: Abuelita', 'nome: Kari Wahlgren | personagem: Shandra Jimenez', 'nome: John DiMaggio | personagem: Manly Dan', 'nome: Keith Ferguson | personagem: Deputy Durland', 'nome: Jennifer Coolidge | personagem: Lazy Susan', 'nome: Gregg Turkington | personagem: Toby Determined', 'nome: Carl Faruolo | personagem: Grenda', 'nome: Niki Yang | personagem: Candy Chiu', 'nome: Will Forte | personagem: Tyler the Cute Biker', 'nome: T.J. Miller | personagem: Robbie Valentino', 'nome: Dee Bradley Baker | personagem: Waddles', 'nome: Grey Griffin | personagem: Crowd', \"nome: Thurop Van Orman | personagem: Li'l Gideon\"]"
        ],
        [
         "38",
         "Seinfeld",
         "1989",
         "172",
         "8.9",
         "https://www.imdb.com/pt/title/tt0098904/?ref_=chttvtp_i_39",
         "158",
         "['nome: Jerry Seinfeld | personagem: Jerry Seinfeld', 'nome: Julia Louis-Dreyfus | personagem: Elaine Benes', 'nome: Michael Richards | personagem: Cosmo Kramer', 'nome: Jason Alexander | personagem: George Costanza', 'nome: Ruth Cohen | personagem: Ruthie Cohen', 'nome: Wayne Knight | personagem: Newman', 'nome: Norman Brenner | personagem: Man on Sidewalk', 'nome: Heidi Swedberg | personagem: Susan Ross', 'nome: Estelle Harris | personagem: Estelle Costanza', 'nome: Jerry Stiller | personagem: Frank Costanza', 'nome: Liz Sheridan | personagem: Helen Seinfeld', \"nome: John O'Hurley | personagem: J. Peterman\", 'nome: Barney Martin | personagem: Morty Seinfeld', 'nome: Len Lesser | personagem: Uncle Leo', 'nome: Deck McKenzie | personagem: Angry Man', 'nome: Richard Herd | personagem: Wilhelm', 'nome: Peggy Lane | personagem: Office Worker', 'nome: Richard Fancy | personagem: Lippman']"
        ],
        [
         "39",
         "Decálogo",
         "1989",
         "10",
         "8.9",
         "https://www.imdb.com/pt/title/tt0092337/?ref_=chttvtp_i_40",
         "2.070",
         "['nome: Artur Barcis | personagem: Young Man', 'nome: Olgierd Lukaszewicz | personagem: Andrzej Geller', 'nome: Olaf Lubaszenko | personagem: Tomek', 'nome: Aleksander Bardini | personagem: Consultant', 'nome: Krystyna Janda | personagem: Dorota Geller', 'nome: Piotr Machalica | personagem: Roman', 'nome: Jan Tesarz | personagem: Taxi Driver', 'nome: Stanislaw Gawlik | personagem: Postman', 'nome: Krzysztof Kumor | personagem: Gynecologist', 'nome: Katarzyna Piwowarczyk | personagem: Ania', 'nome: Maciej Szary | personagem: Apartment Caretaker', 'nome: Henryk Baranowski | personagem: Krzysztof', 'nome: Jerzy Stuhr | personagem: Jerzy', 'nome: Daniel Olbrychski | personagem: Janusz', 'nome: Grazyna Szapolowska | personagem: Magda', 'nome: Adrianna Biedrzynska | personagem: Anka', 'nome: Miroslaw Baka | personagem: Lazar Jacek', 'nome: Anna Polony | personagem: Ewa']"
        ],
        [
         "40",
         "Gibi",
         "2021",
         "59",
         "9.0",
         "https://www.imdb.com/pt/title/tt13675832/?ref_=chttvtp_i_41",
         "241",
         "['nome: Feyyaz Yigit | personagem: Yilmaz', 'nome: Kivanç Kilinç | personagem: Ilkkan', 'nome: Ahmet Kürsat Öçalan | personagem: Ersoy', 'nome: Ümran Sakir | personagem: Ümran', 'nome: Ezgi Ay | personagem: Esra', 'nome: Celal Öztürk | personagem: Berk', 'nome: Fatih Aker | personagem: Peruklu Adam', 'nome: Etkin Berke Kocagil | personagem: Kanaron', 'nome: Nebi Tolga Yilmaz | personagem: Metin', 'nome: Burak Güngör | personagem: Lord Rindegard', 'nome: Ayhan Önem | personagem: Rondak', 'nome: Adnan Yilmaz | personagem: Forni', 'nome: Can Sertaç Adalier | personagem: Moliere', 'nome: Burcu Oktav | personagem: Imge', 'nome: Özer Arslan | personagem: Magistra Maximus', 'nome: Süleyman Kabaali | personagem: Tanju', 'nome: Eray Sel | personagem: Kemençeci Fatih', 'nome: Ozan Elatunterin | personagem: Köle Juba']"
        ],
        [
         "41",
         "The Beatles: Get Back",
         "2021",
         "3",
         "8.9",
         "https://www.imdb.com/pt/title/tt9735318/?ref_=chttvtp_i_42",
         "2.674",
         "[]"
        ],
        [
         "42",
         "True Detective",
         "2014",
         "31",
         "8.9",
         "https://www.imdb.com/pt/title/tt2356777/?ref_=chttvtp_i_43",
         "52",
         "['nome: Vince Vaughn | personagem: Frank Semyon', 'nome: Colin Farrell | personagem: Detective Ray Velcoro', 'nome: Rachel McAdams | personagem: Detective Ani Bezzerides', 'nome: Taylor Kitsch | personagem: Officer Paul Woodrugh', 'nome: Matthew McConaughey | personagem: Detective Rust Cohle', 'nome: Mahershala Ali | personagem: Detective Wayne Hays', 'nome: Woody Harrelson | personagem: Detective Marty Hart', 'nome: Carmen Ejogo | personagem: Amelia Reardon', 'nome: Michelle Monaghan | personagem: Maggie Hart', 'nome: Stephen Dorff | personagem: Detective Roland West', 'nome: Michael Potts | personagem: Detective Maynard Gilbough', 'nome: Kelly Reilly | personagem: Jordan Semyon', 'nome: Scoot McNairy | personagem: Tom Purcell', 'nome: Tory Kittles | personagem: Detective Thomas Papania', 'nome: Ray Fisher | personagem: Henry Hays', 'nome: Chris Kerson | personagem: Nails', 'nome: Ritchie Coster | personagem: Mayor Austin Chessani', 'nome: Sarah Gadon | personagem: Elisa Montgomery']"
        ],
        [
         "43",
         "Cowboy Bebop",
         "1998",
         "26",
         "8.9",
         "https://www.imdb.com/pt/title/tt0213338/?ref_=chttvtp_i_44",
         "663",
         "['nome: Kôichi Yamadera | personagem: Spike Spiegel', 'nome: Unshô Ishizuka | personagem: Jet Black', 'nome: Megumi Hayashibara | personagem: Faye Valentine', 'nome: Steve Blum | personagem: Spike Spiegel', 'nome: Beau Billingslea | personagem: Jet Black', 'nome: Kevin Seymour | personagem: Additional Voices', 'nome: Wendee Lee | personagem: Faye Valentine', 'nome: Isshin Chiba | personagem: Man 2', 'nome: Melissa Fahn | personagem: Edward Wong Hau Pepelu Tivruski IV', 'nome: Aoi Tada | personagem: Edward Wong Hau Pepelu Tivruski IV', 'nome: Hiroshi Naka | personagem: Jobim', 'nome: Tsutomu Tareki | personagem: Punch', 'nome: Miki Nagasawa | personagem: Judy', 'nome: Toshihiko Nakajima | personagem: Carlos', 'nome: Jin Hirao | personagem: Antonio', 'nome: Skip Stellrecht | personagem: Vicious', 'nome: Kazuhiro Nakata | personagem: Bodyguard 2', 'nome: Shinpachi Tsuji | personagem: Amjad']"
        ],
        [
         "44",
         "Fargo",
         "2014",
         "51",
         "8.8",
         "https://www.imdb.com/pt/title/tt2802850/?ref_=chttvtp_i_45",
         "92",
         "['nome: Billy Bob Thornton | personagem: Lorne Malvo', 'nome: Martin Freeman | personagem: Lester Nygaard', 'nome: Allison Tolman | personagem: Molly Solverson', 'nome: Colin Hanks | personagem: Gus Grimly', 'nome: Jason Schwartzman | personagem: Josto Fadda', 'nome: Russell Harvard | personagem: Mr. Wrench', 'nome: Bokeem Woodbine | personagem: Mike Milligan', 'nome: Brad Mann | personagem: Gale Kitchen', 'nome: Kirsten Dunst | personagem: Peggy Blumquist', 'nome: Ewan McGregor | personagem: Emmit Stussy', 'nome: Chris Rock | personagem: Loy Cannon', 'nome: Juno Temple | personagem: Dot Lyon', 'nome: Patrick Wilson | personagem: Lou Solverson', 'nome: Carrie Coon | personagem: Gloria Burgle', 'nome: Jessie Buckley | personagem: Oraetta Mayflower', 'nome: Jennifer Jason Leigh | personagem: Lorraine Lyon', 'nome: Jesse Plemons | personagem: Ed Blumquist', 'nome: Mary Elizabeth Winstead | personagem: Nikki Swango']"
        ],
        [
         "45",
         "Nathan for You",
         "2013",
         "32",
         "8.9",
         "https://www.imdb.com/pt/title/tt2297757/?ref_=chttvtp_i_46",
         "1.558",
         "['nome: Nathan Fielder | personagem: Nathan Fielder', 'nome: Salomon Flores | personagem: Self', 'nome: Anthony Filosa | personagem: Self - Retired Judicial Commissioner', 'nome: William Heath | personagem: Self', 'nome: Brian S. Wolfe | personagem: Self', 'nome: Simon Kellog | personagem: Self', 'nome: James Bailey | personagem: Self - Professional Santa Claus', 'nome: Tony Napoli | personagem: Self - Host', 'nome: Sue Stanford | personagem: Self', 'nome: Cornelius Ladd | personagem: Self - Age Progression Specialist', 'nome: Kyle Heitz | personagem: Self', 'nome: Billy Smalling | personagem: Self', 'nome: Amanda Alexandria | personagem: Self', 'nome: Marcos Mateo Ochoa | personagem: Nathan Decoy', 'nome: Jason Stone | personagem: Self', 'nome: Andy Farshidian | personagem: Self', 'nome: Corey Calderwood | personagem: Self', 'nome: H. Jon Benjamin | personagem: Self']"
        ],
        [
         "46",
         "Sahsiyet",
         "2018",
         "22",
         "9.0",
         "https://www.imdb.com/pt/title/tt7920978/?ref_=chttvtp_i_47",
         "1.440",
         "['nome: Haluk Bilginer | personagem: Agâh Beyoglu', 'nome: Sebnem Bozoklu | personagem: Zuhal', 'nome: Recep Usta | personagem: Deva', 'nome: Cansu Dere | personagem: Nevra Elmas', 'nome: Necip Memili | personagem: Tolga', 'nome: Metin Akdülger | personagem: Ates Arbay', 'nome: Hüseyin Avni Danyal | personagem: Cemil', 'nome: Senay Gürler | personagem: Nükhet', 'nome: Ayhan Kavas | personagem: Gürkan', 'nome: Önder Selen | personagem: Mümtaz', 'nome: Ibrahim Selim | personagem: Sefa', 'nome: Firat Topkorur | personagem: Firuz', 'nome: Rabia Soytürk | personagem: Süveyda', 'nome: Alptekin Ertürk | personagem: Selim', 'nome: Müjde Ar | personagem: Nesrin', 'nome: Erdal Özyagcilar | personagem: Kader', 'nome: Ilker Aksum | personagem: Ertan', 'nome: Aysen Inci | personagem: Mebrure Beyoglu']"
        ],
        [
         "47",
         "Apocalipse: Redescobrindo a Segunda Guerra Mundial",
         "2009",
         "6",
         "9.0",
         "https://www.imdb.com/pt/title/tt1508238/?ref_=chttvtp_i_48",
         "4.840",
         "['nome: Mathieu Kassovitz | personagem: Narrator', 'nome: Martin Sheen | personagem: Narrator (english version)', 'nome: Jonathan Booth | personagem: Narrator', 'nome: Rudolf Hess | personagem: Self.']"
        ],
        [
         "48",
         "Taskmaster",
         "2015",
         "182",
         "9.0",
         "https://www.imdb.com/pt/title/tt4934214/?ref_=chttvtp_i_49",
         "650",
         "['nome: Greg Davies | personagem: Self - Taskmaster', 'nome: Alex Horne | personagem: Self - Assistant', 'nome: Kerry Godliman | personagem: Self - Contestant', 'nome: Ed Gamble | personagem: Self - Contestant', 'nome: Sarah Kendall | personagem: Self - Contestant', 'nome: Sophie Duker | personagem: Self - Contestant', 'nome: Richard Herring | personagem: Self - Contestant', 'nome: Lou Sanders | personagem: Self - Contestant', 'nome: Alan Davies | personagem: Self - Contestant', 'nome: Liza Tarbuck | personagem: Self - Contestant', 'nome: Dara Ó Briain | personagem: Self - Contestant', 'nome: Morgana Robinson | personagem: Self - Contestant', 'nome: Kiell Smith-Bynoe | personagem: Self - Contestant', 'nome: James Acaster | personagem: Self - Contestant', 'nome: Mae Martin | personagem: Self - Contestant', 'nome: Sue Perkins | personagem: Self - Contestant', 'nome: Asim Chaudhry | personagem: Self - Contestant', 'nome: Sian Gibson | personagem: Self - Contestant']"
        ],
        [
         "49",
         "Frieren e a Jornada para o Além",
         "2023",
         "29",
         "8.9",
         "https://www.imdb.com/pt/title/tt22248376/?ref_=chttvtp_i_50",
         "275",
         "['nome: Atsumi Tanezaki | personagem: Frieren', 'nome: Kana Ichinose | personagem: Fern', 'nome: Mallorie Rodak | personagem: Frieren', 'nome: Jill Harris | personagem: Fern', 'nome: Nobuhiko Okamoto | personagem: Himmel', 'nome: Hiroki Tôchi | personagem: Heiter', 'nome: Clifford Chapin | personagem: Himmel', 'nome: Jason Douglas | personagem: Heiter', 'nome: Yôji Ueda | personagem: Eisen', 'nome: Chris Guerrero | personagem: Eisen', 'nome: Chiaki Kobayashi | personagem: Stark', 'nome: Jordan Dash Cruz | personagem: Stark', 'nome: Rebecca Danae | personagem: Lawine', 'nome: Sayumi Suzushiro | personagem: Lawine', 'nome: Jirô Saitô | personagem: Denken', 'nome: Kento Shiraishi | personagem: Falsch', 'nome: Ben Phillips | personagem: Denken', 'nome: Eiji Hanawa | personagem: Richter']"
        ]
       ],
       "shape": {
        "columns": 7,
        "rows": 250
       }
      },
      "text/html": [
       "<div>\n",
       "<style scoped>\n",
       "    .dataframe tbody tr th:only-of-type {\n",
       "        vertical-align: middle;\n",
       "    }\n",
       "\n",
       "    .dataframe tbody tr th {\n",
       "        vertical-align: top;\n",
       "    }\n",
       "\n",
       "    .dataframe thead th {\n",
       "        text-align: right;\n",
       "    }\n",
       "</style>\n",
       "<table border=\"1\" class=\"dataframe\">\n",
       "  <thead>\n",
       "    <tr style=\"text-align: right;\">\n",
       "      <th></th>\n",
       "      <th>titulo</th>\n",
       "      <th>ano</th>\n",
       "      <th>episodios</th>\n",
       "      <th>classificacao</th>\n",
       "      <th>pagina</th>\n",
       "      <th>popularidade</th>\n",
       "      <th>elenco_principal</th>\n",
       "    </tr>\n",
       "  </thead>\n",
       "  <tbody>\n",
       "    <tr>\n",
       "      <th>0</th>\n",
       "      <td>Breaking Bad</td>\n",
       "      <td>2008</td>\n",
       "      <td>62</td>\n",
       "      <td>9.5</td>\n",
       "      <td>https://www.imdb.com/pt/title/tt0903747/?ref_=...</td>\n",
       "      <td>27</td>\n",
       "      <td>[nome: Bryan Cranston | personagem: Walter Whi...</td>\n",
       "    </tr>\n",
       "    <tr>\n",
       "      <th>1</th>\n",
       "      <td>Planeta Terra II</td>\n",
       "      <td>2016</td>\n",
       "      <td>6</td>\n",
       "      <td>9.4</td>\n",
       "      <td>https://www.imdb.com/pt/title/tt5491994/?ref_=...</td>\n",
       "      <td>1.068</td>\n",
       "      <td>[nome: David Attenborough | personagem: Self -...</td>\n",
       "    </tr>\n",
       "    <tr>\n",
       "      <th>2</th>\n",
       "      <td>Planeta Terra</td>\n",
       "      <td>2006</td>\n",
       "      <td>11</td>\n",
       "      <td>9.4</td>\n",
       "      <td>https://www.imdb.com/pt/title/tt0795176/?ref_=...</td>\n",
       "      <td>1.849</td>\n",
       "      <td>[nome: Sigourney Weaver | personagem: Narrator...</td>\n",
       "    </tr>\n",
       "    <tr>\n",
       "      <th>3</th>\n",
       "      <td>Irmãos de Guerra</td>\n",
       "      <td>2001</td>\n",
       "      <td>10</td>\n",
       "      <td>9.4</td>\n",
       "      <td>https://www.imdb.com/pt/title/tt0185906/?ref_=...</td>\n",
       "      <td>160</td>\n",
       "      <td>[nome: Scott Grimes | personagem: Donald G. Ma...</td>\n",
       "    </tr>\n",
       "    <tr>\n",
       "      <th>4</th>\n",
       "      <td>Chernobyl</td>\n",
       "      <td>2019</td>\n",
       "      <td>5</td>\n",
       "      <td>9.3</td>\n",
       "      <td>https://www.imdb.com/pt/title/tt7366338/?ref_=...</td>\n",
       "      <td>142</td>\n",
       "      <td>[nome: Jessie Buckley | personagem: Lyudmilla ...</td>\n",
       "    </tr>\n",
       "    <tr>\n",
       "      <th>...</th>\n",
       "      <td>...</td>\n",
       "      <td>...</td>\n",
       "      <td>...</td>\n",
       "      <td>...</td>\n",
       "      <td>...</td>\n",
       "      <td>...</td>\n",
       "      <td>...</td>\n",
       "    </tr>\n",
       "    <tr>\n",
       "      <th>245</th>\n",
       "      <td>Vivendo nas Sombras</td>\n",
       "      <td>2014</td>\n",
       "      <td>21</td>\n",
       "      <td>8.7</td>\n",
       "      <td>https://www.imdb.com/pt/title/tt4269716/?ref_=...</td>\n",
       "      <td>3.974</td>\n",
       "      <td>[nome: Serban Pavlu | personagem: Relu, nome: ...</td>\n",
       "    </tr>\n",
       "    <tr>\n",
       "      <th>246</th>\n",
       "      <td>Da Terra à Lua</td>\n",
       "      <td>1998</td>\n",
       "      <td>12</td>\n",
       "      <td>8.5</td>\n",
       "      <td>https://www.imdb.com/pt/title/tt0120570/?ref_=...</td>\n",
       "      <td>2.147</td>\n",
       "      <td>[nome: Tom Hanks | personagem: Self - Host, no...</td>\n",
       "    </tr>\n",
       "    <tr>\n",
       "      <th>247</th>\n",
       "      <td>Gintama</td>\n",
       "      <td>2005</td>\n",
       "      <td>375</td>\n",
       "      <td>8.7</td>\n",
       "      <td>https://www.imdb.com/pt/title/tt0988818/?ref_=...</td>\n",
       "      <td>759</td>\n",
       "      <td>[nome: Tomokazu Sugita | personagem: Gintoki S...</td>\n",
       "    </tr>\n",
       "    <tr>\n",
       "      <th>248</th>\n",
       "      <td>Foyle's War</td>\n",
       "      <td>2002</td>\n",
       "      <td>28</td>\n",
       "      <td>8.6</td>\n",
       "      <td>https://www.imdb.com/pt/title/tt0310455/?ref_=...</td>\n",
       "      <td>736</td>\n",
       "      <td>[nome: Michael Kitchen | personagem: Christoph...</td>\n",
       "    </tr>\n",
       "    <tr>\n",
       "      <th>249</th>\n",
       "      <td>Demolidor: Renascido</td>\n",
       "      <td>2025</td>\n",
       "      <td>17</td>\n",
       "      <td>8.6</td>\n",
       "      <td>https://www.imdb.com/pt/title/tt18923754/?ref_...</td>\n",
       "      <td>5</td>\n",
       "      <td>[nome: Charlie Cox | personagem: Daredevil, no...</td>\n",
       "    </tr>\n",
       "  </tbody>\n",
       "</table>\n",
       "<p>250 rows × 7 columns</p>\n",
       "</div>"
      ],
      "text/plain": [
       "                   titulo   ano  episodios  classificacao  \\\n",
       "0            Breaking Bad  2008         62            9.5   \n",
       "1        Planeta Terra II  2016          6            9.4   \n",
       "2           Planeta Terra  2006         11            9.4   \n",
       "3        Irmãos de Guerra  2001         10            9.4   \n",
       "4               Chernobyl  2019          5            9.3   \n",
       "..                    ...   ...        ...            ...   \n",
       "245   Vivendo nas Sombras  2014         21            8.7   \n",
       "246        Da Terra à Lua  1998         12            8.5   \n",
       "247               Gintama  2005        375            8.7   \n",
       "248           Foyle's War  2002         28            8.6   \n",
       "249  Demolidor: Renascido  2025         17            8.6   \n",
       "\n",
       "                                                pagina popularidade  \\\n",
       "0    https://www.imdb.com/pt/title/tt0903747/?ref_=...           27   \n",
       "1    https://www.imdb.com/pt/title/tt5491994/?ref_=...        1.068   \n",
       "2    https://www.imdb.com/pt/title/tt0795176/?ref_=...        1.849   \n",
       "3    https://www.imdb.com/pt/title/tt0185906/?ref_=...          160   \n",
       "4    https://www.imdb.com/pt/title/tt7366338/?ref_=...          142   \n",
       "..                                                 ...          ...   \n",
       "245  https://www.imdb.com/pt/title/tt4269716/?ref_=...        3.974   \n",
       "246  https://www.imdb.com/pt/title/tt0120570/?ref_=...        2.147   \n",
       "247  https://www.imdb.com/pt/title/tt0988818/?ref_=...          759   \n",
       "248  https://www.imdb.com/pt/title/tt0310455/?ref_=...          736   \n",
       "249  https://www.imdb.com/pt/title/tt18923754/?ref_...            5   \n",
       "\n",
       "                                      elenco_principal  \n",
       "0    [nome: Bryan Cranston | personagem: Walter Whi...  \n",
       "1    [nome: David Attenborough | personagem: Self -...  \n",
       "2    [nome: Sigourney Weaver | personagem: Narrator...  \n",
       "3    [nome: Scott Grimes | personagem: Donald G. Ma...  \n",
       "4    [nome: Jessie Buckley | personagem: Lyudmilla ...  \n",
       "..                                                 ...  \n",
       "245  [nome: Serban Pavlu | personagem: Relu, nome: ...  \n",
       "246  [nome: Tom Hanks | personagem: Self - Host, no...  \n",
       "247  [nome: Tomokazu Sugita | personagem: Gintoki S...  \n",
       "248  [nome: Michael Kitchen | personagem: Christoph...  \n",
       "249  [nome: Charlie Cox | personagem: Daredevil, no...  \n",
       "\n",
       "[250 rows x 7 columns]"
      ]
     },
     "execution_count": 5,
     "metadata": {},
     "output_type": "execute_result"
    }
   ],
   "source": [
    "df = pd.read_json('series.json')\n",
    "df"
   ]
  },
  {
   "cell_type": "code",
   "execution_count": 11,
   "id": "5353b66c",
   "metadata": {},
   "outputs": [
    {
     "data": {
      "text/plain": [
       "list"
      ]
     },
     "execution_count": 11,
     "metadata": {},
     "output_type": "execute_result"
    }
   ],
   "source": [
    "type(df[\"elenco_principal\"][0])"
   ]
  },
  {
   "cell_type": "code",
   "execution_count": 16,
   "id": "19f02410",
   "metadata": {},
   "outputs": [
    {
     "data": {
      "text/plain": [
       "['nome: Bryan Cranston | personagem: Walter White',\n",
       " 'nome: Aaron Paul | personagem: Jesse Pinkman',\n",
       " 'nome: Anna Gunn | personagem: Skyler White',\n",
       " 'nome: Betsy Brandt | personagem: Marie Schrader',\n",
       " 'nome: RJ Mitte | personagem: Walter White, Jr.',\n",
       " 'nome: Dean Norris | personagem: Hank Schrader',\n",
       " 'nome: Bob Odenkirk | personagem: Saul Goodman',\n",
       " 'nome: Steven Michael Quezada | personagem: Steven Gomez',\n",
       " 'nome: Jonathan Banks | personagem: Mike Ehrmantraut',\n",
       " 'nome: Giancarlo Esposito | personagem: Gus Fring',\n",
       " 'nome: Charles Baker | personagem: Skinny Pete',\n",
       " 'nome: Jesse Plemons | personagem: Todd',\n",
       " 'nome: Christopher Cousins | personagem: Ted Beneke',\n",
       " 'nome: Laura Fraser | personagem: Lydia Rodarte-Quayle',\n",
       " 'nome: Matt Jones | personagem: Badger',\n",
       " 'nome: Michael Shamus Wiles | personagem: ASAC George Merkert',\n",
       " 'nome: Lavell Crawford | personagem: Huell',\n",
       " 'nome: Ray Campbell | personagem: Tyrus Kitt']"
      ]
     },
     "execution_count": 16,
     "metadata": {},
     "output_type": "execute_result"
    }
   ],
   "source": [
    "#printa apenas a primeira linha da coluna elenco_principal\n",
    "df[\"elenco_principal\"][0]"
   ]
  },
  {
   "cell_type": "code",
   "execution_count": null,
   "id": "7a3457cd",
   "metadata": {},
   "outputs": [],
   "source": []
  }
 ],
 "metadata": {
  "kernelspec": {
   "display_name": "venv",
   "language": "python",
   "name": "python3"
  },
  "language_info": {
   "codemirror_mode": {
    "name": "ipython",
    "version": 3
   },
   "file_extension": ".py",
   "mimetype": "text/x-python",
   "name": "python",
   "nbconvert_exporter": "python",
   "pygments_lexer": "ipython3",
   "version": "3.12.1"
  }
 },
 "nbformat": 4,
 "nbformat_minor": 5
}
